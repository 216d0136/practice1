{
  "nbformat": 4,
  "nbformat_minor": 0,
  "metadata": {
    "colab": {
      "name": "lesson11",
      "provenance": [],
      "collapsed_sections": [],
      "toc_visible": true,
      "authorship_tag": "ABX9TyMGMhz3AW1DnQoNwnXTzhj5",
      "include_colab_link": true
    },
    "kernelspec": {
      "name": "python3",
      "display_name": "Python 3"
    },
    "accelerator": "GPU"
  },
  "cells": [
    {
      "cell_type": "markdown",
      "metadata": {
        "id": "view-in-github",
        "colab_type": "text"
      },
      "source": [
        "<a href=\"https://colab.research.google.com/github/216d0136/python_practice/blob/master/lesson11.ipynb\" target=\"_parent\"><img src=\"https://colab.research.google.com/assets/colab-badge.svg\" alt=\"Open In Colab\"/></a>"
      ]
    },
    {
      "cell_type": "code",
      "metadata": {
        "id": "SThfI9U4sEGa",
        "colab_type": "code",
        "colab": {
          "base_uri": "https://localhost:8080/",
          "height": 431
        },
        "outputId": "a3c5048f-219e-4d2c-9b03-a32bc6848a21"
      },
      "source": [
        "\n",
        "\n",
        "# 学習データ\n",
        "x = [[12],[16],[20],[28],[36]]\n",
        "y = [[700],[900],[1300],[1750],[1800]]\n",
        "\n",
        "\n",
        "import matplotlib.pyplot as plt\n",
        "plt.figure()\n",
        "plt.title('Relation between diameter and price') #タイトル\n",
        "plt.xlabel('diameter') #軸ラベル\n",
        "plt.ylabel('price') #軸ラベル\n",
        "plt.scatter(x,y) #散布図の作成\n",
        "plt.axis([0, 50, 0, 2500]) #表の最小値、最大値\n",
        "plt.grid(True) #grid線\n",
        "plt.show()\n",
        "\n",
        "\n",
        "from sklearn.linear_model import LinearRegression\n",
        "model = LinearRegression()\n",
        "model.fit(x,y)\n",
        "\n",
        "import numpy as np\n",
        "price = model.predict(np.array([25]).reshape(-1, 1)) # Google Colabなどでskleran.0.20系ご利用の方\n",
        "# price = model.predict(25) # scikit-learnバージョン0.1.9系\n",
        "print('25 cm pizza should cost: $%s'%price[0][0])\n",
        "\n",
        "\n",
        "x_test = [[16],[18],[22],[32],[24]]\n",
        "y_test = [[1100],[850],[1500],[1800],[1100]]\n",
        "\n",
        "score = model.score(x_test,y_test)\n",
        "print(\"r-squared:\",score)\n",
        "\n",
        "\n",
        "\n",
        "from sklearn.linear_model import LinearRegression\n",
        "x = [[12,2],[16,1],[20,0],[28,2],[36,0]]\n",
        "y = [[700],[900],[1300],[1750],[1800]]\n",
        "\n",
        "model = LinearRegression()\n",
        "model.fit(x,y)\n",
        "\n",
        "x_test = [[16,2],[18,0],[22,2],[32,2],[24,0]]\n",
        "y_test = [[1100],[850],[1500],[1800],[1100]]\n",
        "\n",
        "prices = model.predict(x_test)\n",
        "for i, price in enumerate(prices):\n",
        "    print('Predicted:%s, Target:%s'%(price,y_test[i]))\n",
        "\n",
        "score = model.score(x_test,y_test)\n",
        "print(\"r-squared:\",score)"
      ],
      "execution_count": 2,
      "outputs": [
        {
          "output_type": "display_data",
          "data": {
            "image/png": "[encoded data removed]",
            "text/plain": [
              "<Figure size 432x288 with 1 Axes>"
            ]
          },
          "metadata": {
            "tags": [],
            "needs_background": "light"
          }
        },
        {
          "output_type": "stream",
          "text": [
            "25 cm pizza should cost: $1416.9181034482758\n",
            "r-squared: 0.6620052929422553\n",
            "Predicted:[1006.25], Target:[1100]\n",
            "Predicted:[1028.125], Target:[850]\n",
            "Predicted:[1309.375], Target:[1500]\n",
            "Predicted:[1814.58333333], Target:[1800]\n",
            "Predicted:[1331.25], Target:[1100]\n",
            "r-squared: 0.7701677731318467\n"
          ],
          "name": "stdout"
        }
      ]
    }
  ]
}