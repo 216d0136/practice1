{
  "nbformat": 4,
  "nbformat_minor": 0,
  "metadata": {
    "colab": {
      "name": "lesson12",
      "provenance": [],
      "collapsed_sections": [],
      "toc_visible": true,
      "authorship_tag": "ABX9TyOv9Hnc9lVb5gVi5xQaaaUR",
      "include_colab_link": true
    },
    "kernelspec": {
      "name": "python3",
      "display_name": "Python 3"
    },
    "accelerator": "GPU"
  },
  "cells": [
    {
      "cell_type": "markdown",
      "metadata": {
        "id": "view-in-github",
        "colab_type": "text"
      },
      "source": [
        "<a href=\"https://colab.research.google.com/github/216d0136/python_practice/blob/master/lesson12.ipynb\" target=\"_parent\"><img src=\"https://colab.research.google.com/assets/colab-badge.svg\" alt=\"Open In Colab\"/></a>"
      ]
    },
    {
      "cell_type": "code",
      "metadata": {
        "id": "SThfI9U4sEGa",
        "colab_type": "code",
        "colab": {
          "base_uri": "https://localhost:8080/",
          "height": 34
        },
        "outputId": "dc2a4128-5a5b-48a9-b2df-82b6d7f79a63"
      },
      "source": [
        "\n",
        "\n",
        "from sklearn.linear_model import Lasso\n",
        "from sklearn.datasets import load_boston\n",
        "from sklearn.model_selection import train_test_split\n",
        "from sklearn.metrics import r2_score\n",
        "\n",
        "boston = load_boston()\n",
        "\n",
        "x = boston.data\n",
        "y = boston.target\n",
        "\n",
        "x_train, x_test, y_train, y_test = train_test_split(x,y,random_state=123)\n",
        "\n",
        "model = Lasso()\n",
        "model.fit(x_train, y_train)\n",
        "\n",
        "pred = model.predict(x_test)\n",
        "r2_score(y_test, pred)"
      ],
      "execution_count": 1,
      "outputs": [
        {
          "output_type": "execute_result",
          "data": {
            "text/plain": [
              "0.6554460628881653"
            ]
          },
          "metadata": {
            "tags": []
          },
          "execution_count": 1
        }
      ]
    }
  ]
}