{
  "nbformat": 4,
  "nbformat_minor": 0,
  "metadata": {
    "colab": {
      "name": "lesson15",
      "provenance": [],
      "collapsed_sections": [],
      "toc_visible": true,
      "authorship_tag": "ABX9TyPSYA1VduIw9bXw3/qj2k0d",
      "include_colab_link": true
    },
    "kernelspec": {
      "name": "python3",
      "display_name": "Python 3"
    },
    "accelerator": "GPU"
  },
  "cells": [
    {
      "cell_type": "markdown",
      "metadata": {
        "id": "view-in-github",
        "colab_type": "text"
      },
      "source": [
        "<a href=\"https://colab.research.google.com/github/216d0136/python_practice/blob/master/lesson15.ipynb\" target=\"_parent\"><img src=\"https://colab.research.google.com/assets/colab-badge.svg\" alt=\"Open In Colab\"/></a>"
      ]
    },
    {
      "cell_type": "code",
      "metadata": {
        "id": "SThfI9U4sEGa",
        "colab_type": "code",
        "colab": {
          "base_uri": "https://localhost:8080/",
          "height": 68
        },
        "outputId": "b4e9fac8-722f-4f00-99bd-9b4198d4083c"
      },
      "source": [
        "import numpy as np\n",
        "import matplotlib.pyplot as plt\n",
        "\n",
        "x = np.array([-1.2, -0.6, 0.0, 0.6, 1.2, 1.8, 2.4, 3.0, 3.6, 4.2])\n",
        "y = np.cos(x)\n",
        "\n",
        "# 3次元（y=a0+a1x1+a2x^2+a3x^3)まで考えた回帰分析\n",
        "z = np.polyfit(x, y, 3)\n",
        "print(z)\n",
        "p = np.poly1d(z)\n",
        "print(p)"
      ],
      "execution_count": 7,
      "outputs": [
        {
          "output_type": "stream",
          "text": [
            "[ 0.10204287 -0.4773402  -0.14803308  1.00894581]\n",
            "       3          2\n",
            "0.102 x - 0.4773 x - 0.148 x + 1.009\n"
          ],
          "name": "stdout"
        }
      ]
    }
  ]
}