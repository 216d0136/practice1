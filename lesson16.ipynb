{
  "nbformat": 4,
  "nbformat_minor": 0,
  "metadata": {
    "colab": {
      "name": "lesson16",
      "provenance": [],
      "collapsed_sections": [],
      "toc_visible": true,
      "authorship_tag": "ABX9TyMRNpyX3rKqGbNeIUJGqvbk",
      "include_colab_link": true
    },
    "kernelspec": {
      "name": "python3",
      "display_name": "Python 3"
    },
    "accelerator": "GPU"
  },
  "cells": [
    {
      "cell_type": "markdown",
      "metadata": {
        "id": "view-in-github",
        "colab_type": "text"
      },
      "source": [
        "<a href=\"https://colab.research.google.com/github/216d0136/python_practice/blob/master/lesson16.ipynb\" target=\"_parent\"><img src=\"https://colab.research.google.com/assets/colab-badge.svg\" alt=\"Open In Colab\"/></a>"
      ]
    },
    {
      "cell_type": "code",
      "metadata": {
        "id": "SThfI9U4sEGa",
        "colab_type": "code",
        "colab": {
          "base_uri": "https://localhost:8080/",
          "height": 302
        },
        "outputId": "dd9c59a6-6ede-4d36-acc7-01e249b32ff6"
      },
      "source": [
        "from sklearn.preprocessing import PolynomialFeatures\n",
        "from sklearn.linear_model import LinearRegression\n",
        "import numpy as np\n",
        "import matplotlib.pyplot as plt\n",
        "\n",
        "np.random.seed(123)\n",
        "x = np.linspace(-2 , 2, 30)\n",
        "y = 2 + 2 * x + 2 * x ** 2 - 2 * x ** 3 + np.random.normal(scale=10, size=x.shape)\n",
        "X = x.reshape(-1, 1)\n",
        "\n",
        "_x = PolynomialFeatures(degree=3)\n",
        "\n",
        "model1 = LinearRegression()\n",
        "X = _x.fit_transform(X)\n",
        "model1.fit(X,y)\n",
        "\n",
        "pred = model1.predict(X)\n",
        "plt.scatter(x, y, c=\"blue\", alpha=0.3)\n",
        "plt.plot(x, pred, c=\"blue\")\n",
        "\n",
        "print(\"切片: \",model1.intercept_)\n",
        "print(\"傾き\", model1.coef_)"
      ],
      "execution_count": 3,
      "outputs": [
        {
          "output_type": "stream",
          "text": [
            "切片:  6.538958686062212\n",
            "傾き [ 0.          7.96932619 -0.87087299 -4.10631567]\n"
          ],
          "name": "stdout"
        },
        {
          "output_type": "display_data",
          "data": {
            "image/png": "[encoded data removed]",
            "text/plain": [
              "<Figure size 432x288 with 1 Axes>"
            ]
          },
          "metadata": {
            "tags": [],
            "needs_background": "light"
          }
        }
      ]
    }
  ]
}