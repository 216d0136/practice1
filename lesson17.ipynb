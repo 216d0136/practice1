{
  "nbformat": 4,
  "nbformat_minor": 0,
  "metadata": {
    "colab": {
      "name": "lesson17",
      "provenance": [],
      "collapsed_sections": [],
      "toc_visible": true,
      "authorship_tag": "ABX9TyNhtHqYlRiWe/5/xcmdIsGt",
      "include_colab_link": true
    },
    "kernelspec": {
      "name": "python3",
      "display_name": "Python 3"
    },
    "accelerator": "GPU"
  },
  "cells": [
    {
      "cell_type": "markdown",
      "metadata": {
        "id": "view-in-github",
        "colab_type": "text"
      },
      "source": [
        "<a href=\"https://colab.research.google.com/github/216d0136/python_practice/blob/master/lesson17.ipynb\" target=\"_parent\"><img src=\"https://colab.research.google.com/assets/colab-badge.svg\" alt=\"Open In Colab\"/></a>"
      ]
    },
    {
      "cell_type": "code",
      "metadata": {
        "id": "SThfI9U4sEGa",
        "colab_type": "code",
        "colab": {
          "base_uri": "https://localhost:8080/",
          "height": 34
        },
        "outputId": "7ec4940c-7379-43c8-c570-7486d0cf3106"
      },
      "source": [
        "from sklearn.model_selection import train_test_split\n",
        "from sklearn.metrics import accuracy_score\n",
        "from sklearn.datasets import load_iris\n",
        "from sklearn.linear_model import LogisticRegression \n",
        "\n",
        "dataset = load_iris() \n",
        "X, y = dataset.data, dataset.target\n",
        "\n",
        "# トレーニングとテスト用にデータを分割\n",
        "X_train, X_test, Y_train, Y_test = train_test_split(X, y)\n",
        "# モデルの作成(初期化)\n",
        "\"\"\"\n",
        "Pythonのバージョンが3.7の場合、下記のコードだとWarningがでる場合があります。\n",
        "その際には、model = LogisticRegression()の部分を、\n",
        "model = LogisticRegression(solver='liblinear')\n",
        "に書き換えてみてください。\n",
        "\"\"\"\n",
        "\n",
        "# モデル作成(初期化)\n",
        "model = LogisticRegression(solver='liblinear')\n",
        "model.fit(X_train, Y_train)\n",
        "# 値の予測\n",
        "pred = model.predict(X_test)\n",
        "# テストデータを使って、どれくらい正しいかどうかを計算\n",
        "accuracy_score(Y_test, pred)"
      ],
      "execution_count": 5,
      "outputs": [
        {
          "output_type": "execute_result",
          "data": {
            "text/plain": [
              "0.9736842105263158"
            ]
          },
          "metadata": {
            "tags": []
          },
          "execution_count": 5
        }
      ]
    }
  ]
}