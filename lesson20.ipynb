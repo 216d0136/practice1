{
  "nbformat": 4,
  "nbformat_minor": 0,
  "metadata": {
    "colab": {
      "name": "lesson20",
      "provenance": [],
      "collapsed_sections": [],
      "authorship_tag": "ABX9TyOFc0ag02Oy1mqPtfatO1AR",
      "include_colab_link": true
    },
    "kernelspec": {
      "name": "python3",
      "display_name": "Python 3"
    },
    "accelerator": "GPU"
  },
  "cells": [
    {
      "cell_type": "markdown",
      "metadata": {
        "id": "view-in-github",
        "colab_type": "text"
      },
      "source": [
        "<a href=\"https://colab.research.google.com/github/216d0136/python_practice/blob/master/lesson20.ipynb\" target=\"_parent\"><img src=\"https://colab.research.google.com/assets/colab-badge.svg\" alt=\"Open In Colab\"/></a>"
      ]
    },
    {
      "cell_type": "code",
      "metadata": {
        "id": "SThfI9U4sEGa",
        "colab_type": "code",
        "colab": {
          "base_uri": "https://localhost:8080/",
          "height": 663
        },
        "outputId": "859bea92-dff8-4b26-a4da-2fc34f3f913a"
      },
      "source": [
        "\n",
        "\n",
        "### 下記の入力フィールドにプログラムを打ち込み、左の実行ボタンを押す事で書いたコードを実行できます。　###\n",
        "\n",
        "from sklearn.ensemble import RandomForestClassifier\n",
        "from sklearn.model_selection import train_test_split\n",
        "from sklearn.datasets import load_iris\n",
        "from sklearn.tree import DecisionTreeClassifier\n",
        "\n",
        "iris = load_iris()\n",
        "x = iris.data[:, 2:] # 花びらの長さと幅\n",
        "y = iris.target\n",
        "model = DecisionTreeClassifier().fit(x,y)\n",
        "\n",
        "x_train, x_test, y_train, y_test = train_test_split(x, y, random_state=1)\n",
        "clf_rf = RandomForestClassifier(n_estimators=30, random_state=0)\n",
        "clf_rf = clf_rf.fit(x_train, y_train)\n",
        "\n",
        "from sklearn import metrics\n",
        "def measure_performance(x,y,clf, show_accuracy=True,show_classification_report=True, show_confussion_matrix=True):\n",
        "    y_pred=clf.predict(x)\n",
        "    if show_accuracy:\n",
        "        print(\"Accuracy:{0:.3f}\".format(metrics.accuracy_score(y, y_pred)), \"\\n\")\n",
        "\n",
        "    if show_classification_report:\n",
        "        print(\"Classification report\")\n",
        "        print(metrics.classification_report(y, y_pred), \"\\n\")\n",
        "\n",
        "    if show_confussion_matrix:\n",
        "        print(\"Confussion matrix\")\n",
        "        print(metrics.confusion_matrix(y, y_pred),\"\\n\")\n",
        "\n",
        "from sklearn import tree\n",
        "clf = tree.DecisionTreeClassifier(criterion='entropy', max_depth= 3, min_samples_leaf = 5)\n",
        "clf = clf.fit(x_train, y_train)\n",
        "\n",
        "#決定木モデルの評価\n",
        "measure_performance(x_train, y_train, clf)\n",
        "\n",
        "\n",
        "from sklearn.ensemble import RandomForestClassifier\n",
        "clf = RandomForestClassifier(n_estimators=30, random_state=0)\n",
        "clf = clf.fit(x_train, y_train)\n",
        "\n",
        "#ランダムフォレストモデルの評価\n",
        "measure_performance(x_train, y_train, clf)"
      ],
      "execution_count": 1,
      "outputs": [
        {
          "output_type": "stream",
          "text": [
            "Accuracy:0.982 \n",
            "\n",
            "Classification report\n",
            "              precision    recall  f1-score   support\n",
            "\n",
            "           0       1.00      1.00      1.00        37\n",
            "           1       1.00      0.94      0.97        34\n",
            "           2       0.95      1.00      0.98        41\n",
            "\n",
            "    accuracy                           0.98       112\n",
            "   macro avg       0.98      0.98      0.98       112\n",
            "weighted avg       0.98      0.98      0.98       112\n",
            " \n",
            "\n",
            "Confussion matrix\n",
            "[[37  0  0]\n",
            " [ 0 32  2]\n",
            " [ 0  0 41]] \n",
            "\n",
            "Accuracy:0.991 \n",
            "\n",
            "Classification report\n",
            "              precision    recall  f1-score   support\n",
            "\n",
            "           0       1.00      1.00      1.00        37\n",
            "           1       1.00      0.97      0.99        34\n",
            "           2       0.98      1.00      0.99        41\n",
            "\n",
            "    accuracy                           0.99       112\n",
            "   macro avg       0.99      0.99      0.99       112\n",
            "weighted avg       0.99      0.99      0.99       112\n",
            " \n",
            "\n",
            "Confussion matrix\n",
            "[[37  0  0]\n",
            " [ 0 33  1]\n",
            " [ 0  0 41]] \n",
            "\n"
          ],
          "name": "stdout"
        }
      ]
    }
  ]
}