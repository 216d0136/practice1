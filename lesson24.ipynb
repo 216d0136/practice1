{
  "nbformat": 4,
  "nbformat_minor": 0,
  "metadata": {
    "colab": {
      "name": "lesson24",
      "provenance": [],
      "collapsed_sections": [],
      "authorship_tag": "ABX9TyM1AgHpdFKkmNakWU8p+m3I",
      "include_colab_link": true
    },
    "kernelspec": {
      "name": "python3",
      "display_name": "Python 3"
    },
    "accelerator": "GPU"
  },
  "cells": [
    {
      "cell_type": "markdown",
      "metadata": {
        "id": "view-in-github",
        "colab_type": "text"
      },
      "source": [
        "<a href=\"https://colab.research.google.com/github/216d0136/python_practice/blob/master/lesson24.ipynb\" target=\"_parent\"><img src=\"https://colab.research.google.com/assets/colab-badge.svg\" alt=\"Open In Colab\"/></a>"
      ]
    },
    {
      "cell_type": "code",
      "metadata": {
        "id": "SThfI9U4sEGa",
        "colab_type": "code",
        "colab": {
          "base_uri": "https://localhost:8080/",
          "height": 105
        },
        "outputId": "834ab7e0-7bc5-4bae-8164-22060aecc690"
      },
      "source": [
        "# データの標準化を行うために必要\n",
        "from sklearn.preprocessing import StandardScaler\n",
        "from sklearn.datasets import load_iris\n",
        "from sklearn.model_selection import train_test_split\n",
        "from sklearn.neural_network import MLPClassifier\n",
        "from sklearn.metrics import classification_report, accuracy_score\n",
        "\n",
        "# データ取得\n",
        "iris = load_iris()\n",
        "x, y = iris.data, iris.target\n",
        "\n",
        "# 訓練データとテストデータに分割\n",
        "x_train, x_test, y_train, y_test = train_test_split(x, y, test_size=0.3, random_state=0)\n",
        "\n",
        "\n",
        "scaler = StandardScaler()\n",
        "scaler.fit(x_train)\n",
        "\n",
        "# 標準化\n",
        "X_train_scaled = scaler.transform(x_train)\n",
        "X_test_scaled  = scaler.transform(x_test)\n",
        "\n",
        "import scipy\n",
        "std = scipy.std(X_train_scaled, axis=0) # 訓練データの説明変数の標準偏差が1になっているか確認\n",
        "print(std)\n",
        "\n",
        "# 入力層・隠れ層・出力層合わせて4層のニューラルネットワークを実装 (隠れ層が2層で各々の隠れ層には100個のニューロンを設定)\n",
        "# alpha=0.07で正則化の強度の指定\n",
        "# max_iter=10000は最大繰り返し回数\n",
        "# 活性化関数はReLUがでフォルダで、パラメタの推定アルゴリズムにはAdamがデフォルト\n",
        "model = MLPClassifier(hidden_layer_sizes=(100,100), alpha=0.07, \n",
        "                     max_iter=10000, random_state=0)\n",
        "model.fit(X_train_scaled, y_train)\n",
        "print(\"訓練データ: \", model.score(X_train_scaled, y_train))\n",
        "print(\"テストデータ: \", model.score(X_test_scaled, y_test))"
      ],
      "execution_count": 1,
      "outputs": [
        {
          "output_type": "stream",
          "text": [
            "/usr/local/lib/python3.6/dist-packages/ipykernel_launcher.py:24: DeprecationWarning: scipy.std is deprecated and will be removed in SciPy 2.0.0, use numpy.std instead\n"
          ],
          "name": "stderr"
        },
        {
          "output_type": "stream",
          "text": [
            "[1. 1. 1. 1.]\n",
            "訓練データ:  1.0\n",
            "テストデータ:  0.9777777777777777\n"
          ],
          "name": "stdout"
        }
      ]
    }
  ]
}