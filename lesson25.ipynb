{
  "nbformat": 4,
  "nbformat_minor": 0,
  "metadata": {
    "colab": {
      "name": "lesson25",
      "provenance": [],
      "collapsed_sections": [],
      "authorship_tag": "ABX9TyOpcbyIpDhAWJEX6COlwvI4",
      "include_colab_link": true
    },
    "kernelspec": {
      "name": "python3",
      "display_name": "Python 3"
    },
    "accelerator": "GPU"
  },
  "cells": [
    {
      "cell_type": "markdown",
      "metadata": {
        "id": "view-in-github",
        "colab_type": "text"
      },
      "source": [
        "<a href=\"https://colab.research.google.com/github/216d0136/python_practice/blob/master/lesson25.ipynb\" target=\"_parent\"><img src=\"https://colab.research.google.com/assets/colab-badge.svg\" alt=\"Open In Colab\"/></a>"
      ]
    },
    {
      "cell_type": "code",
      "metadata": {
        "id": "SThfI9U4sEGa",
        "colab_type": "code",
        "colab": {
          "base_uri": "https://localhost:8080/",
          "height": 105
        },
        "outputId": "2ae32487-c98d-4c92-87a1-2612a9cb7c4d"
      },
      "source": [
        "# このプログラムはJupyter Notebook上で動作させています。\n",
        "# テキストエディタで実行する場合は、『%matplotlib inline』の部分を削除してください。\n",
        "from sklearn.datasets import load_iris\n",
        "from sklearn.neighbors import KNeighborsClassifier\n",
        "from sklearn.model_selection import train_test_split \n",
        "from sklearn.metrics import accuracy_score\n",
        "import matplotlib.pyplot as plt\n",
        "import seaborn as sns\n",
        "\n",
        "iris = load_iris()\n",
        "x = iris.data\n",
        "y = iris.target\n",
        "\n",
        "x_train, x_test, y_train, y_test = train_test_split(x, y,random_state=123) \n",
        "\n",
        "model = KNeighborsClassifier(n_neighbors=3) # n_neighborsを渡さない場合、初期値は5 \n",
        "model.fit(x_train, y_train)\n",
        "pred = model.predict(x_test) \n",
        "\n",
        "print(accuracy_score(y_test, pred)) # 0.94\n",
        "\n",
        "model2 = KNeighborsClassifier(n_neighbors=8)  \n",
        "model2.fit(x_train, y_train)\n",
        "pred2 = model2.predict(x_test) \n",
        "\n",
        "print(accuracy_score(y_test, pred2)) # 0.97"
      ],
      "execution_count": 1,
      "outputs": [
        {
          "output_type": "stream",
          "text": [
            "0.9473684210526315\n",
            "0.9736842105263158\n"
          ],
          "name": "stdout"
        },
        {
          "output_type": "stream",
          "text": [
            "/usr/local/lib/python3.6/dist-packages/statsmodels/tools/_testing.py:19: FutureWarning: pandas.util.testing is deprecated. Use the functions in the public API at pandas.testing instead.\n",
            "  import pandas.util.testing as tm\n"
          ],
          "name": "stderr"
        }
      ]
    }
  ]
}