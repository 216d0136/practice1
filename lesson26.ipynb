{
  "nbformat": 4,
  "nbformat_minor": 0,
  "metadata": {
    "colab": {
      "name": "lesson26",
      "provenance": [],
      "collapsed_sections": [],
      "authorship_tag": "ABX9TyPiyZB1F0HscY/vN/hrHeez",
      "include_colab_link": true
    },
    "kernelspec": {
      "name": "python3",
      "display_name": "Python 3"
    },
    "accelerator": "GPU"
  },
  "cells": [
    {
      "cell_type": "markdown",
      "metadata": {
        "id": "view-in-github",
        "colab_type": "text"
      },
      "source": [
        "<a href=\"https://colab.research.google.com/github/216d0136/python_practice/blob/master/lesson26.ipynb\" target=\"_parent\"><img src=\"https://colab.research.google.com/assets/colab-badge.svg\" alt=\"Open In Colab\"/></a>"
      ]
    },
    {
      "cell_type": "code",
      "metadata": {
        "id": "SThfI9U4sEGa",
        "colab_type": "code",
        "colab": {
          "base_uri": "https://localhost:8080/",
          "height": 34
        },
        "outputId": "47336e8b-db8c-4d45-9b52-c9c4583e8d8a"
      },
      "source": [
        "from sklearn.ensemble import BaggingClassifier\n",
        "from sklearn.neighbors import KNeighborsClassifier\n",
        "from sklearn.model_selection import train_test_split\n",
        "from sklearn.datasets import load_breast_cancer\n",
        "\n",
        "cancer = load_breast_cancer()\n",
        "\n",
        "x_train, x_test, y_train, y_test = train_test_split(cancer.data, \n",
        "                                                   cancer.target, stratify=cancer.target,\n",
        "                                                   random_state=66)\n",
        "\n",
        "model = BaggingClassifier(KNeighborsClassifier(), n_estimators=100, \n",
        "                                random_state=0)\n",
        "\n",
        "model.fit(x_train, y_train)\n",
        "score  = model.score(x_test, y_test)\n",
        "\n",
        "print(score)"
      ],
      "execution_count": 2,
      "outputs": [
        {
          "output_type": "stream",
          "text": [
            "0.9370629370629371\n"
          ],
          "name": "stdout"
        }
      ]
    }
  ]
}