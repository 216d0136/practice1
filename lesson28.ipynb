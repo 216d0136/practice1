{
  "nbformat": 4,
  "nbformat_minor": 0,
  "metadata": {
    "colab": {
      "name": "lesson28",
      "provenance": [],
      "collapsed_sections": [],
      "authorship_tag": "ABX9TyN65PoaQFVj/yORbOeZOmnv",
      "include_colab_link": true
    },
    "kernelspec": {
      "name": "python3",
      "display_name": "Python 3"
    },
    "accelerator": "GPU"
  },
  "cells": [
    {
      "cell_type": "markdown",
      "metadata": {
        "id": "view-in-github",
        "colab_type": "text"
      },
      "source": [
        "<a href=\"https://colab.research.google.com/github/216d0136/python_practice/blob/master/lesson28.ipynb\" target=\"_parent\"><img src=\"https://colab.research.google.com/assets/colab-badge.svg\" alt=\"Open In Colab\"/></a>"
      ]
    },
    {
      "cell_type": "code",
      "metadata": {
        "id": "SThfI9U4sEGa",
        "colab_type": "code",
        "colab": {
          "base_uri": "https://localhost:8080/",
          "height": 34
        },
        "outputId": "8eb35962-516a-4c49-9ddd-0e2780799993"
      },
      "source": [
        "import pandas as pd\n",
        "import numpy as np\n",
        "\n",
        "# irisのデータセットをインポート\n",
        "from sklearn.datasets import load_iris\n",
        "iris = load_iris()\n",
        "\n",
        "x = iris.data\n",
        "y = iris.target\n",
        "\n",
        "df = pd.DataFrame(x)\n",
        "df['target'] = y\n",
        "\n",
        "# train_test_splitでトレーニングデータとテストデータを分割\n",
        "from sklearn.model_selection import train_test_split\n",
        "x_train, x_test, y_train, y_test = train_test_split(x, y, random_state=1)\n",
        "\n",
        "# xgboostをインポートして、分類モデルであるXGBClassifierをインスタンス化\n",
        "import xgboost as xgb\n",
        "xgbc = xgb.XGBClassifier()\n",
        "xgbc.fit(x_train, y_train)\n",
        "\n",
        "# テストデータの予測\n",
        "pred = xgbc.predict(x_test)\n",
        "\n",
        "# データによってはpredict()の際に、ValueError: feature_names mismatch:が出る場合があります。\n",
        "# そのような場合、pred = xgbc.predict(x_test.as_matrix())\n",
        "# といったように、 .as_matrix()をテストデータに用いるとエラーを回避できます。\n",
        "\n",
        "\n",
        "#モデルの評価とスコアの確認\n",
        "from sklearn.metrics import accuracy_score\n",
        "score = accuracy_score(pred, y_test)\n",
        "print(score) # 0.9736842105263158"
      ],
      "execution_count": 6,
      "outputs": [
        {
          "output_type": "stream",
          "text": [
            "0.9736842105263158\n"
          ],
          "name": "stdout"
        }
      ]
    }
  ]
}