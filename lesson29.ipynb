{
  "nbformat": 4,
  "nbformat_minor": 0,
  "metadata": {
    "colab": {
      "name": "lesson29",
      "provenance": [],
      "collapsed_sections": [],
      "authorship_tag": "ABX9TyPerXnpf6y1b51Mf0+M4VWI",
      "include_colab_link": true
    },
    "kernelspec": {
      "name": "python3",
      "display_name": "Python 3"
    },
    "accelerator": "GPU"
  },
  "cells": [
    {
      "cell_type": "markdown",
      "metadata": {
        "id": "view-in-github",
        "colab_type": "text"
      },
      "source": [
        "<a href=\"https://colab.research.google.com/github/216d0136/python_practice/blob/master/lesson29.ipynb\" target=\"_parent\"><img src=\"https://colab.research.google.com/assets/colab-badge.svg\" alt=\"Open In Colab\"/></a>"
      ]
    },
    {
      "cell_type": "code",
      "metadata": {
        "id": "SThfI9U4sEGa",
        "colab_type": "code",
        "colab": {
          "base_uri": "https://localhost:8080/",
          "height": 85
        },
        "outputId": "4a80e622-4f5c-4c2c-b8ce-ce591752ee07"
      },
      "source": [
        "def d(x,y):\n",
        "    try:\n",
        "        r = x / y\n",
        "    except ZeroDivisionError:\n",
        "        print('ゼロ除算')\n",
        "    else:\n",
        "        print('result: ',r)\n",
        "    finally:\n",
        "        print('finally!!')\n",
        "\n",
        "d(10,2)\n",
        "d(2,0)"
      ],
      "execution_count": 1,
      "outputs": [
        {
          "output_type": "stream",
          "text": [
            "result:  5.0\n",
            "finally!!\n",
            "ゼロ除算\n",
            "finally!!\n"
          ],
          "name": "stdout"
        }
      ]
    }
  ]
}