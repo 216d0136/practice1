{
  "nbformat": 4,
  "nbformat_minor": 0,
  "metadata": {
    "colab": {
      "name": "lesson3",
      "provenance": [],
      "authorship_tag": "ABX9TyOoel3E5jzuSlokc9ity2po",
      "include_colab_link": true
    },
    "kernelspec": {
      "name": "python3",
      "display_name": "Python 3"
    },
    "accelerator": "GPU"
  },
  "cells": [
    {
      "cell_type": "markdown",
      "metadata": {
        "id": "view-in-github",
        "colab_type": "text"
      },
      "source": [
        "<a href=\"https://colab.research.google.com/github/216d0136/practice1/blob/master/lesson3.ipynb\" target=\"_parent\"><img src=\"https://colab.research.google.com/assets/colab-badge.svg\" alt=\"Open In Colab\"/></a>"
      ]
    },
    {
      "cell_type": "code",
      "metadata": {
        "id": "SThfI9U4sEGa",
        "colab_type": "code",
        "colab": {
          "base_uri": "https://localhost:8080/",
          "height": 289
        },
        "outputId": "5c6ec3dd-2c0e-49aa-ed07-a6433cd913f0"
      },
      "source": [
        "import random\n",
        "\n",
        "win = 0\n",
        "draw = 0\n",
        "\n",
        "for i in range(3):\n",
        "    print(\"ジャンケン\" + str(i + 1) + \"回目\")\n",
        "    print(\"> 0:グー、1:チョキ、2:パー\")\n",
        "\n",
        "    com = random.randint(0,2)\n",
        "\n",
        "    you = int(input(\"あなたの手は？\"))\n",
        "\n",
        "    print(\"コンピューターの手=\"+str(com))    \n",
        "\n",
        "    if com == 0:\n",
        "        if you == 2:\n",
        "            print(\"勝ち\")\n",
        "            win+=1\n",
        "        elif you == 1:\n",
        "            print(\"負け\")\n",
        "        elif you == 0:\n",
        "            print(\"あいこ\")\n",
        "            draw+=1\n",
        "    elif com == 1:\n",
        "        if you == 0:\n",
        "            print(\"勝ち\")\n",
        "            win+=1\n",
        "        elif you == 2:\n",
        "            print(\"負け\")\n",
        "        elif you == 1:\n",
        "            print(\"あいこ\")\n",
        "            draw+=1    \n",
        "    elif com == 2:\n",
        "        if you == 1:\n",
        "            print(\"勝ち\")\n",
        "            win+=1\n",
        "        elif you == 0:\n",
        "            print(\"負け\")\n",
        "        elif you == 2:\n",
        "            print(\"あいこ\")\n",
        "            draw+=1\n",
        "\n",
        "\n",
        "print(\"結果=3戦\"+str(win)+\"勝\"+str(draw)+\"引分\")\n",
        "  "
      ],
      "execution_count": 1,
      "outputs": [
        {
          "output_type": "stream",
          "text": [
            "ジャンケン1回目\n",
            "> 0:グー、1:チョキ、2:パー\n",
            "あなたの手は？0\n",
            "コンピューターの手=2\n",
            "負け\n",
            "ジャンケン2回目\n",
            "> 0:グー、1:チョキ、2:パー\n",
            "あなたの手は？1\n",
            "コンピューターの手=1\n",
            "あいこ\n",
            "ジャンケン3回目\n",
            "> 0:グー、1:チョキ、2:パー\n",
            "あなたの手は？2\n",
            "コンピューターの手=2\n",
            "あいこ\n",
            "結果=3戦0勝2引分\n"
          ],
          "name": "stdout"
        }
      ]
    }
  ]
}