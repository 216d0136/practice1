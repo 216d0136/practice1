{
  "nbformat": 4,
  "nbformat_minor": 0,
  "metadata": {
    "colab": {
      "name": "lesson4",
      "provenance": [],
      "collapsed_sections": [],
      "authorship_tag": "ABX9TyPBj5EQi2xZdvDWkvR9wKGd",
      "include_colab_link": true
    },
    "kernelspec": {
      "name": "python3",
      "display_name": "Python 3"
    },
    "accelerator": "GPU"
  },
  "cells": [
    {
      "cell_type": "markdown",
      "metadata": {
        "id": "view-in-github",
        "colab_type": "text"
      },
      "source": [
        "<a href=\"https://colab.research.google.com/github/216d0136/practice1/blob/master/lesson4.ipynb\" target=\"_parent\"><img src=\"https://colab.research.google.com/assets/colab-badge.svg\" alt=\"Open In Colab\"/></a>"
      ]
    },
    {
      "cell_type": "code",
      "metadata": {
        "id": "SThfI9U4sEGa",
        "colab_type": "code",
        "colab": {
          "base_uri": "https://localhost:8080/",
          "height": 34
        },
        "outputId": "524472ba-48bd-4cf5-d668-9d9805382fc5"
      },
      "source": [
        "class Test():\n",
        "\t\n",
        "\tdef __init__(self, test):\n",
        "\t\tself.test = test \n",
        "\n",
        "\tdef __call__(self):\n",
        "\t\tprint(\"called!!\")\n",
        "\n",
        "t = Test('test')\n",
        "t()\n",
        "\n",
        "\n",
        "class Test():\n",
        "\n",
        "\tdef __init__(self, test):\n",
        "\t\tself.test = test \n",
        "\n",
        "\tdef __call__(self):\n",
        "\t\t# print(\"called!!\")\n",
        "\t\treturn 10\n",
        "\n",
        "\n"
      ],
      "execution_count": 4,
      "outputs": [
        {
          "output_type": "stream",
          "text": [
            "called!!\n"
          ],
          "name": "stdout"
        }
      ]
    }
  ]
}