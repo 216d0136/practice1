{
  "nbformat": 4,
  "nbformat_minor": 0,
  "metadata": {
    "colab": {
      "name": "lesson5",
      "provenance": [],
      "collapsed_sections": [],
      "authorship_tag": "ABX9TyMOQZCpKcv/p0iOuqUx0mAZ",
      "include_colab_link": true
    },
    "kernelspec": {
      "name": "python3",
      "display_name": "Python 3"
    },
    "accelerator": "GPU"
  },
  "cells": [
    {
      "cell_type": "markdown",
      "metadata": {
        "id": "view-in-github",
        "colab_type": "text"
      },
      "source": [
        "<a href=\"https://colab.research.google.com/github/216d0136/practice1/blob/master/lesson5.ipynb\" target=\"_parent\"><img src=\"https://colab.research.google.com/assets/colab-badge.svg\" alt=\"Open In Colab\"/></a>"
      ]
    },
    {
      "cell_type": "code",
      "metadata": {
        "id": "SThfI9U4sEGa",
        "colab_type": "code",
        "colab": {
          "base_uri": "https://localhost:8080/",
          "height": 51
        },
        "outputId": "2968d250-9a41-4578-96e3-77f72b27bceb"
      },
      "source": [
        "odd_or_even = lambda x: '偶数' if x % 2 == 0 else '奇数'\n",
        "print(odd_or_even(5)) # (a)\n",
        "print(odd_or_even(10)) # (b)"
      ],
      "execution_count": 12,
      "outputs": [
        {
          "output_type": "stream",
          "text": [
            "奇数\n",
            "偶数\n"
          ],
          "name": "stdout"
        }
      ]
    }
  ]
}