{
  "nbformat": 4,
  "nbformat_minor": 0,
  "metadata": {
    "colab": {
      "name": "lesson7",
      "provenance": [],
      "collapsed_sections": [],
      "authorship_tag": "ABX9TyNa80rrFms07HrXP/GLWPPD",
      "include_colab_link": true
    },
    "kernelspec": {
      "name": "python3",
      "display_name": "Python 3"
    },
    "accelerator": "GPU"
  },
  "cells": [
    {
      "cell_type": "markdown",
      "metadata": {
        "id": "view-in-github",
        "colab_type": "text"
      },
      "source": [
        "<a href=\"https://colab.research.google.com/github/216d0136/python_practice/blob/master/lesson7.ipynb\" target=\"_parent\"><img src=\"https://colab.research.google.com/assets/colab-badge.svg\" alt=\"Open In Colab\"/></a>"
      ]
    },
    {
      "cell_type": "code",
      "metadata": {
        "id": "SThfI9U4sEGa",
        "colab_type": "code",
        "colab": {
          "base_uri": "https://localhost:8080/",
          "height": 430
        },
        "outputId": "df54c3fb-f0fe-477a-d3d4-0dd2c12c6fdb"
      },
      "source": [
        "dic = {}\n",
        "\n",
        "while True:\n",
        "    print(\"[0]新しい英単語を追加\\n[1]英単語を検索する\\n[2]登録単語データを表示する\\n[3]アプリを閉じる\")\n",
        "    inputNum = input()\n",
        "\n",
        "    if int(inputNum) == 0:\n",
        "        print(\"単語の意味（日本語）を入力してください\")\n",
        "        word1 = input()\n",
        "        print(\"英単語（単語）を入力してください\")\n",
        "        word2 = input()\n",
        "        dic[word1] = word2\n",
        "        print(\"追加しました\")\n",
        "        print(dic)\n",
        "    elif int(inputNum) == 1:\n",
        "        print(\"検索したい（単語）の日本語を入力してください\")\n",
        "        word = input()\n",
        "        try:\n",
        "            print(dic[word])\n",
        "        except:\n",
        "            print(\"そのような単語は登録されていません。\")\n",
        "    elif int(inputNum) == 2:\n",
        "        print(\"登録英単語帳データ:\")\n",
        "        for k,v in dic.items():\n",
        "            print(\"単語の意味\",k)\n",
        "            print(\"英単語\", v)\n",
        "\n",
        "    elif int(inputNum) == 3:\n",
        "        print(\"終了します\")\n",
        "        break"
      ],
      "execution_count": null,
      "outputs": [
        {
          "output_type": "stream",
          "text": [
            "[0]新しい英単語を追加\n",
            "[1]英単語を検索する\n",
            "[2]登録単語データを表示する\n",
            "[3]アプリを閉じる\n",
            "0\n",
            "単語の意味（日本語）を入力してください\n",
            "koi\n",
            "英単語（単語）を入力してください\n",
            "koi\n",
            "追加しました\n",
            "{'koi': 'koi'}\n",
            "[0]新しい英単語を追加\n",
            "[1]英単語を検索する\n",
            "[2]登録単語データを表示する\n",
            "[3]アプリを閉じる\n",
            "1\n",
            "検索したい（単語）の日本語を入力してください\n",
            "ii\n",
            "そのような単語は登録されていません。\n",
            "[0]新しい英単語を追加\n",
            "[1]英単語を検索する\n",
            "[2]登録単語データを表示する\n",
            "[3]アプリを閉じる\n"
          ],
          "name": "stdout"
        }
      ]
    }
  ]
}