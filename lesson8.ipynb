{
  "nbformat": 4,
  "nbformat_minor": 0,
  "metadata": {
    "colab": {
      "name": "lesson8",
      "provenance": [],
      "collapsed_sections": [],
      "authorship_tag": "ABX9TyP1hcOuepJ7d5C/WXwKHYd9",
      "include_colab_link": true
    },
    "kernelspec": {
      "name": "python3",
      "display_name": "Python 3"
    },
    "accelerator": "GPU"
  },
  "cells": [
    {
      "cell_type": "markdown",
      "metadata": {
        "id": "view-in-github",
        "colab_type": "text"
      },
      "source": [
        "<a href=\"https://colab.research.google.com/github/216d0136/python_practice/blob/master/lesson8.ipynb\" target=\"_parent\"><img src=\"https://colab.research.google.com/assets/colab-badge.svg\" alt=\"Open In Colab\"/></a>"
      ]
    },
    {
      "cell_type": "code",
      "metadata": {
        "id": "SThfI9U4sEGa",
        "colab_type": "code",
        "colab": {
          "base_uri": "https://localhost:8080/",
          "height": 68
        },
        "outputId": "43457e2c-452f-407e-802d-b7fefca9a010"
      },
      "source": [
        "height = int(input(\"身長を入力してください: 例身長160cmの場合は、『160』と入力。\"))\n",
        "weight = int(input(\"体重を入力してください: 例体重55kgの人の場合は、『55』と入力\"))\n",
        "\n",
        "def bmi_calc(height, weight):\n",
        "        height = height / 100\n",
        "        bmi = weight/(height**2)\n",
        "        print(bmi)\n",
        "\n",
        "bmi_calc(height, weight)"
      ],
      "execution_count": 2,
      "outputs": [
        {
          "output_type": "stream",
          "text": [
            "身長を入力してください: 例身長160cmの場合は、『160』と入力。163\n",
            "体重を入力してください: 例体重55kgの人の場合は、『55』と入力56\n",
            "21.077195227520797\n"
          ],
          "name": "stdout"
        }
      ]
    }
  ]
}