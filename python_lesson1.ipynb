{
  "nbformat": 4,
  "nbformat_minor": 0,
  "metadata": {
    "colab": {
      "name": "python lesson1",
      "provenance": [],
      "authorship_tag": "ABX9TyMNR0khgCuwjt8ocuL1eDh+",
      "include_colab_link": true
    },
    "kernelspec": {
      "name": "python3",
      "display_name": "Python 3"
    },
    "accelerator": "GPU"
  },
  "cells": [
    {
      "cell_type": "markdown",
      "metadata": {
        "id": "view-in-github",
        "colab_type": "text"
      },
      "source": [
        "<a href=\"https://colab.research.google.com/github/216d0136/practice1/blob/master/python_lesson1.ipynb\" target=\"_parent\"><img src=\"https://colab.research.google.com/assets/colab-badge.svg\" alt=\"Open In Colab\"/></a>"
      ]
    },
    {
      "cell_type": "code",
      "metadata": {
        "id": "SThfI9U4sEGa",
        "colab_type": "code",
        "colab": {
          "base_uri": "https://localhost:8080/",
          "height": 85
        },
        "outputId": "77456a77-1908-489c-b412-815ce9f6f5c7"
      },
      "source": [
        "def d(x,y):\n",
        "    try:\n",
        "        r = x / y\n",
        "    except ZeroDivisionError:\n",
        "        print('ゼロ除算')\n",
        "    else:\n",
        "        print('result: ',r)\n",
        "    finally:\n",
        "        print('finally!!')\n",
        "\n",
        "d(10,2)\n",
        "d(2,0)\n"
      ],
      "execution_count": null,
      "outputs": [
        {
          "output_type": "stream",
          "text": [
            "result:  5.0\n",
            "finally!!\n",
            "ゼロ除算\n",
            "finally!!\n"
          ],
          "name": "stdout"
        }
      ]
    }
  ]
}